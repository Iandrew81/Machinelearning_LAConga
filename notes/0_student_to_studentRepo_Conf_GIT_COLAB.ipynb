{
  "nbformat": 4,
  "nbformat_minor": 0,
  "metadata": {
    "colab": {
      "name": "0_student-to-studentRepo_Conf_GIT-COLAB.ipynb",
      "provenance": [],
      "collapsed_sections": []
    },
    "kernelspec": {
      "name": "python3",
      "display_name": "Python 3"
    }
  },
  "cells": [
    {
      "cell_type": "markdown",
      "metadata": {
        "id": "EG-z9B-duNXs"
      },
      "source": [
        "\n",
        "<img src=\"https://gitlab.com/bivl2ab/academico/cursos-uis/la-conga-dataanalysis/la-conga-da-student/-/raw/master/imgs/banner_DA.png\"  width=\"1000px\" height=\"200px\">\n",
        "\n",
        "# Connecting GITLAB with COLAB\n",
        "\n"
      ]
    },
    {
      "cell_type": "code",
      "metadata": {
        "id": "LDER08A_dRxN",
        "colab": {
          "base_uri": "https://localhost:8080/"
        },
        "outputId": "b7fe58f1-811a-4751-94ea-ac01225bd729"
      },
      "source": [
        " #@title 1. MONTAR EL DRIVE { display-mode: \"form\" }\n",
        "from google.colab import drive\n",
        "drive.mount('/content/drive/', force_remount=True)\n",
        "%cd drive/My Drive/"
      ],
      "execution_count": 1,
      "outputs": [
        {
          "output_type": "stream",
          "name": "stdout",
          "text": [
            "Mounted at /content/drive/\n",
            "/content/drive/My Drive\n"
          ]
        }
      ]
    },
    {
      "cell_type": "code",
      "metadata": {
        "id": "y-YTsL97cfKY",
        "colab": {
          "base_uri": "https://localhost:8080/"
        },
        "outputId": "bde3cfec-a3a0-4967-cc81-dca29249abae"
      },
      "source": [
        "#@title 2. Cree o localice course-machine-learning { display-mode: \"form\" }\n",
        "folder_name = \"course-machine-learning\" #@param {type:\"string\"}\n",
        "\n",
        "import os\n",
        "path_ria = '/content/drive/My Drive/'\n",
        "os.mkdir(os.path.join(path_ria, folder_name)) if folder_name not in os.listdir(path_ria) else os.chdir(os.path.join(path_ria, folder_name))\n",
        "print(os.getcwd())"
      ],
      "execution_count": 5,
      "outputs": [
        {
          "output_type": "stream",
          "name": "stdout",
          "text": [
            "/content/drive/My Drive/course-machine-learning\n"
          ]
        }
      ]
    },
    {
      "cell_type": "code",
      "metadata": {
        "id": "kBc8OGLQrqD_"
      },
      "source": [
        "#@title 3. Clone (clone) o actualice (pull) el course-I.A2 { display-mode: \"form\" }\n",
        "folder_name = \"course-machine-learning\" #@param {type:\"string\"}\n",
        "path_ria = '/content/drive/My Drive/'+ folder_name\n",
        "os.chdir(path_ria)\n",
        "print(os.getcwd())\n",
        "\n",
        "if 'la-conga-machinelearning-student' in os.listdir('.'):\n",
        "  print(\"pull repo is required\") \n",
        "  os.chdir(os.path.join(os.getcwd(), 'la-conga-machinelearning-student'))\n",
        "  ! git reset --hard HEAD\n",
        "  ! git clean -f -d\n",
        "  ! git pull --progress origin main\n",
        "\n",
        "else:\n",
        "  print(\"clone repo is required\") \n",
        "  !git clone \"https://gitlab.com/bivl2ab/academico/cursos-uis/la-conga-machinelearning/la-conga-machinelearning-student\"\n",
        "  os.chdir(os.path.join(os.getcwd(), 'la-conga-machinelearning-student'))\n",
        "  \n",
        "print(os.getcwd())"
      ],
      "execution_count": null,
      "outputs": []
    },
    {
      "cell_type": "code",
      "metadata": {
        "id": "xy12-xgDhM8-",
        "colab": {
          "base_uri": "https://localhost:8080/"
        },
        "outputId": "983a780c-fffe-4ec4-d25b-0c71b97705ab"
      },
      "source": [
        "os.listdir('.')"
      ],
      "execution_count": null,
      "outputs": [
        {
          "output_type": "execute_result",
          "data": {
            "text/plain": [
              "['.git',\n",
              " 'DataAnalysis-intro.pdf',\n",
              " 'DataAnalysis-intro.pptx',\n",
              " 'README.md',\n",
              " 'imgs']"
            ]
          },
          "metadata": {},
          "execution_count": 4
        }
      ]
    },
    {
      "cell_type": "markdown",
      "metadata": {
        "id": "rgJnE_F6uijM"
      },
      "source": [
        "<img src=\"https://gitlab.com/bivl2ab/academico/cursos-uis/cv/cv-uis-student/raw/master/imgs/bannerThanks.jpg\" style=\"width:1000px;\">"
      ]
    }
  ]
}